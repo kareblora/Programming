{
 "cells": [
  {
   "cell_type": "code",
   "execution_count": 12,
   "id": "51cdc9da",
   "metadata": {},
   "outputs": [
    {
     "name": "stdout",
     "output_type": "stream",
     "text": [
      "10.1.1.1\n",
      "---------------\n",
      "    ip_addr    \n",
      "    vendor     \n",
      "   username    \n",
      "   password    \n",
      "   platform    \n",
      "    bgp_as     \n",
      "    peer_as    \n",
      "    peer_ip    \n",
      "---------------\n",
      "\n",
      "------------------------------------\n",
      "    ip_addr     --->    10.1.1.1    \n",
      "    vendor      --->     juniper    \n",
      "   username     --->      kevin     \n",
      "   password     --->      K3v1n     \n",
      "   platform     --->      junos     \n",
      "    bgp_as      --->       100      \n",
      "    peer_as     --->       20       \n",
      "    peer_ip     --->    10.1.1.2    \n",
      "------------------------------------\n",
      "\n"
     ]
    }
   ],
   "source": [
    "net_device = {\"ip_addr\" : \"10.1.1.1\", \"vendor\" : \"juniper\", \"username\" : \"kevin\", \"password\" : \"K3v1n\"}\n",
    "\n",
    "print(f'{net_device[\"ip_addr\"]}')\n",
    "\n",
    "if net_device[\"vendor\"].lower() == \"cisco\":\n",
    "    net_device[\"platform\"] = \"ios\"\n",
    "elif net_device[\"vendor\"].lower() == \"juniper\":\n",
    "    net_device[\"platform\"] = \"junos\"\n",
    "    \n",
    "bgp_fields = {\n",
    "    \"bgp_as\": 100,\n",
    "    \"peer_as\": 20,\n",
    "    \"peer_ip\": \"10.1.1.2\",\n",
    "}\n",
    "\n",
    "net_device.update(bgp_fields)\n",
    "\n",
    "print(\"-\" * 15)\n",
    "for key in net_device:\n",
    "    print(\"{:^15}\".format(key))\n",
    "print(\"-\" * 15)\n",
    "print()\n",
    "\n",
    "print(\"-\" * 36)\n",
    "for key, value in net_device.items():\n",
    "    print(\"{key:^15} ---> {value:^15}\".format(key=key, value=value))\n",
    "print(\"-\" * 36)\n",
    "print()"
   ]
  },
  {
   "cell_type": "code",
   "execution_count": 26,
   "id": "c3e27709",
   "metadata": {},
   "outputs": [
    {
     "data": {
      "text/plain": [
       "['BasicInterpolation',\n",
       " 'ConfigParser',\n",
       " 'ConverterMapping',\n",
       " 'DEFAULTSECT',\n",
       " 'DuplicateOptionError',\n",
       " 'DuplicateSectionError',\n",
       " 'Error',\n",
       " 'ExtendedInterpolation',\n",
       " 'Interpolation',\n",
       " 'InterpolationDepthError',\n",
       " 'InterpolationError',\n",
       " 'InterpolationMissingOptionError',\n",
       " 'InterpolationSyntaxError',\n",
       " 'LegacyInterpolation',\n",
       " 'MAX_INTERPOLATION_DEPTH',\n",
       " 'MissingSectionHeaderError',\n",
       " 'MutableMapping',\n",
       " 'NoOptionError',\n",
       " 'NoSectionError',\n",
       " 'ParsingError',\n",
       " 'RawConfigParser',\n",
       " 'SafeConfigParser',\n",
       " 'SectionProxy',\n",
       " '_ChainMap',\n",
       " '_UNSET',\n",
       " '__all__',\n",
       " '__builtins__',\n",
       " '__cached__',\n",
       " '__doc__',\n",
       " '__file__',\n",
       " '__loader__',\n",
       " '__name__',\n",
       " '__package__',\n",
       " '__spec__',\n",
       " '_default_dict',\n",
       " 'functools',\n",
       " 'io',\n",
       " 'itertools',\n",
       " 'os',\n",
       " 're',\n",
       " 'sys',\n",
       " 'warnings']"
      ]
     },
     "execution_count": 26,
     "metadata": {},
     "output_type": "execute_result"
    }
   ],
   "source": []
  },
  {
   "cell_type": "code",
   "execution_count": null,
   "id": "2c4aa210",
   "metadata": {},
   "outputs": [],
   "source": []
  }
 ],
 "metadata": {
  "kernelspec": {
   "display_name": "Python 3 (ipykernel)",
   "language": "python",
   "name": "python3"
  },
  "language_info": {
   "codemirror_mode": {
    "name": "ipython",
    "version": 3
   },
   "file_extension": ".py",
   "mimetype": "text/x-python",
   "name": "python",
   "nbconvert_exporter": "python",
   "pygments_lexer": "ipython3",
   "version": "3.7.3"
  }
 },
 "nbformat": 4,
 "nbformat_minor": 5
}
