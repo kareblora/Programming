{
 "cells": [
  {
   "cell_type": "code",
   "execution_count": 33,
   "id": "35e5cfba",
   "metadata": {},
   "outputs": [
    {
     "name": "stdout",
     "output_type": "stream",
     "text": [
      "10.1.1.1\n",
      "---------------\n",
      "    ip_addr    \n",
      "    vendor     \n",
      "   username    \n",
      "   password    \n",
      "   platform    \n",
      "    bgp_as     \n",
      "    peer_as    \n",
      "    peer_ip    \n",
      "---------------\n",
      "\n",
      "------------------------------------\n",
      "    ip_addr     --->    10.1.1.1    \n",
      "    vendor      --->     juniper    \n",
      "   username     --->      kevin     \n",
      "   password     --->      K3v1n     \n",
      "   platform     --->      junos     \n",
      "    bgp_as      --->       100      \n",
      "    peer_as     --->       20       \n",
      "    peer_ip     --->    10.1.1.2    \n",
      "------------------------------------\n",
      "\n"
     ]
    }
   ],
   "source": [
    "net_device = {\"ip_addr\" : \"10.1.1.1\", \"vendor\" : \"juniper\", \"username\" : \"kevin\", \"password\" : \"K3v1n\"}\n",
    "\n",
    "print(f'{net_device[\"ip_addr\"]}')\n",
    "\n",
    "if net_device[\"vendor\"].lower() == \"cisco\":\n",
    "    net_device[\"platform\"] = \"ios\"\n",
    "elif net_device[\"vendor\"].lower() == \"juniper\":\n",
    "    net_device[\"platform\"] = \"junos\"\n",
    "    \n",
    "bgp_fields = {\n",
    "    \"bgp_as\": 100,\n",
    "    \"peer_as\": 20,\n",
    "    \"peer_ip\": \"10.1.1.2\",\n",
    "}\n",
    "\n",
    "net_device.update(bgp_fields)\n",
    "\n",
    "print(\"-\" * 15)\n",
    "for key in net_device:\n",
    "    print(\"{:^15}\".format(key))\n",
    "print(\"-\" * 15)\n",
    "print()\n",
    "\n",
    "print(\"-\" * 36)\n",
    "for key, value in net_device.items():\n",
    "    print(\"{key:^15} ---> {value:^15}\".format(key=key, value=value))\n",
    "print(\"-\" * 36)\n",
    "print()"
   ]
  },
  {
   "cell_type": "code",
   "execution_count": 34,
   "id": "92382088",
   "metadata": {},
   "outputs": [
    {
     "name": "stdout",
     "output_type": "stream",
     "text": [
      "Status code: 200 \n",
      "Status code: {'id': 1, 'name': 'Leanne Graham', 'username': 'Bret', 'email': 'Sincere@april.biz', 'address': {'street': 'Kulas Light', 'suite': 'Apt. 556', 'city': 'Gwenborough', 'zipcode': '92998-3874', 'geo': {'lat': '-37.3159', 'lng': '81.1496'}}, 'phone': '1-770-736-8031 x56442', 'website': 'hildegard.org', 'company': {'name': 'Romaguera-Crona', 'catchPhrase': 'Multi-layered client-server neural-net', 'bs': 'harness real-time e-markets'}} \n"
     ]
    }
   ],
   "source": [
    "import requests\n",
    "import json\n",
    "\n",
    "url = 'http://jsonplaceholder.typicode.com/users'\n",
    "\n",
    "response = requests.get(url=url, params=None)\n",
    "status_code = response.status_code\n",
    "content = json.loads(response.content)\n",
    "\n",
    "print(f'Status code: {status_code} ')\n",
    "print(f'Status code: {content} ')"
   ]
  },
  {
   "cell_type": "code",
   "execution_count": null,
   "id": "3bfe2a00",
   "metadata": {},
   "outputs": [],
   "source": []
  }
 ],
 "metadata": {
  "kernelspec": {
   "display_name": "Python 3 (ipykernel)",
   "language": "python",
   "name": "python3"
  },
  "language_info": {
   "codemirror_mode": {
    "name": "ipython",
    "version": 3
   },
   "file_extension": ".py",
   "mimetype": "text/x-python",
   "name": "python",
   "nbconvert_exporter": "python",
   "pygments_lexer": "ipython3",
   "version": "3.7.3"
  }
 },
 "nbformat": 4,
 "nbformat_minor": 5
}
