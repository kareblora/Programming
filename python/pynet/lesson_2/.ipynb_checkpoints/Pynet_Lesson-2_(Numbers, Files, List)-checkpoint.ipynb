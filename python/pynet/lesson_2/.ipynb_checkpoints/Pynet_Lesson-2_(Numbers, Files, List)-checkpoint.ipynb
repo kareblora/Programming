{
 "cells": [
  {
   "cell_type": "code",
   "execution_count": 15,
   "id": "f8ff94f3",
   "metadata": {},
   "outputs": [
    {
     "name": "stdout",
     "output_type": "stream",
     "text": [
      "--------------------------------------------------------------------------------\n",
      "Cisco IOS Software, C880 Software (C880DATA-UNIVERSALK9-M), Version 15.4(2)T1, RELEASE SOFTWARE (fc3)\n",
      "Technical Support: http://www.cisco.com/techsupport\n",
      "Copyright (c) 1986-2014 by Cisco Systems, Inc.\n",
      "Compiled Thu 26-Jun-14 14:15 by prod_rel_team\n",
      "\n",
      "ROM: System Bootstrap, Version 12.4(22r)YB5, RELEASE SOFTWARE (fc1)\n",
      "\n",
      "pynet-rtr1 uptime is 1 year, 21 weeks, 6 days, 13 minutes\n",
      "System returned to ROM by reload\n",
      "System restarted at 12:44:53 PDT Wed Jun 22 2016\n",
      "System image file is \"flash:c880data-universalk9-mz.154-2.T1.bin\"\n",
      "Last reload type: Normal Reload\n",
      "Last reload reason: power-on\n",
      "\n",
      "\n",
      "\n",
      "This product contains cryptographic features and is subject to United\n",
      "States and local country laws governing import, export, transfer and\n",
      "use. Delivery of Cisco cryptographic products does not imply\n",
      "third-party authority to import, export, distribute or use encryption.\n",
      "Importers, exporters, distributors and users are responsible for\n",
      "compliance with U.S. and local country laws. By using this product you\n",
      "agree to comply with applicable laws and regulations. If you are unable\n",
      "to comply with U.S. and local laws, return this product immediately.\n",
      "\n",
      "A summary of U.S. laws governing Cisco cryptographic products may be found at:\n",
      "http://www.cisco.com/wwl/export/crypto/tool/stqrg.html\n",
      "\n",
      "If you require further assistance please contact us by sending email to\n",
      "export@cisco.com.\n",
      "\n",
      "Cisco 881 (MPC8300) processor (revision 1.0) with 236544K/25600K bytes of memory.\n",
      "Processor board ID FTX0000038X\n",
      "\n",
      "5 FastEthernet interfaces\n",
      "1 Virtual Private Network (VPN) Module\n",
      "256K bytes of non-volatile configuration memory.\n",
      "126000K bytes of ATA CompactFlash (Read/Write)\n",
      "\n",
      "\n",
      "License Info:\n",
      "\n",
      "License UDI:\n",
      "\n",
      "-------------------------------------------------\n",
      "Device#\t  PID\t\t\tSN\n",
      "-------------------------------------------------\n",
      "*0  \t  CISCO881-SEC-K9       FTX0000038X     \n",
      "\n",
      "\n",
      "\n",
      "License Information for 'c880-data'\n",
      "    License Level: advipservices   Type: Permanent\n",
      "    Next reboot license Level: advipservices\n",
      "\n",
      "\n",
      "Configuration register is 0x2102\n",
      "\n",
      "\n",
      "--------------------------------------------------------------------------------\n",
      "<class 'str'>\n",
      "--------------------------------------------------------------------------------\n"
     ]
    }
   ],
   "source": [
    "banner = \"-\" * 80\n",
    "\n",
    "f = open(\"show_version.txt\")\n",
    "show_ver = f.read()\n",
    "print(banner)\n",
    "print(show_ver)\n",
    "print(banner)\n",
    "print(type(show_ver))\n",
    "print(banner)\n",
    "f.close()\n"
   ]
  },
  {
   "cell_type": "code",
   "execution_count": 41,
   "id": "defaf263",
   "metadata": {},
   "outputs": [
    {
     "name": "stdout",
     "output_type": "stream",
     "text": [
      "['Internet  10.220.88.1           135   0062.ec29.70fe  ARPA   FastEthernet4\\n',\n",
      " 'Internet  10.220.88.20            -   c89c.1dea.0eb6  ARPA   FastEthernet4\\n',\n",
      " 'Internet  10.220.88.21          213   1c6a.7aaf.576c  ARPA   FastEthernet4\\n',\n",
      " 'Internet  10.220.88.28          222   5254.aba8.9aea  ARPA   FastEthernet4\\n',\n",
      " 'Internet  10.220.88.29          234   5254.abbe.5b7b  ARPA   FastEthernet4\\n',\n",
      " 'Internet  10.220.88.30          220   5254.ab71.e119  ARPA   FastEthernet4\\n',\n",
      " 'Internet  10.220.88.32          191   5254.abc7.26aa  ARPA   FastEthernet4\\n',\n",
      " 'Internet  10.220.88.33          190   5254.ab3a.8d26  ARPA   FastEthernet4\\n',\n",
      " 'Internet  10.220.88.35          175   5254.abfb.af12  ARPA   FastEthernet4\\n',\n",
      " 'Internet  10.220.88.37           69   0001.00ff.0001  ARPA   FastEthernet4\\n',\n",
      " 'Internet  10.220.88.38          159   0002.00ff.0001  ARPA   FastEthernet4\\n',\n",
      " 'Internet  10.220.88.39            0   6464.9be8.08c8  ARPA   FastEthernet4\\n',\n",
      " 'Internet  10.220.88.40          144   001c.c4bf.826a  ARPA   FastEthernet4\\n',\n",
      " 'Internet  10.220.88.41          123   001b.7873.5634  ARPA   FastEthernet4\\n']\n"
     ]
    }
   ],
   "source": [
    "from pprint import pprint\n",
    "\n",
    "with open(\"show_arp.txt\") as f:\n",
    "    show_arp = f.readlines()\n",
    "\n",
    "show_arp = show_arp[1:]\n",
    "show_arp.sort()\n",
    "\n",
    "pprint(show_arp)\n",
    "\n",
    "my_entries = show_arp[:3]\n",
    "my_entries = \"\\n\".join(my_entries)\n",
    "\n",
    "\n",
    "with open(\"arp_entries.txt\", \"wt\") as f:\n",
    "      f.write(my_entries)"
   ]
  },
  {
   "cell_type": "code",
   "execution_count": 25,
   "id": "afbd6fde",
   "metadata": {},
   "outputs": [
    {
     "name": "stdout",
     "output_type": "stream",
     "text": [
      "['192.168.1.1', '10.1.1.1', '172.16.31.254', '8.8.8.8', '8.8.4.4', '10.10.10.10', '1.1.1.1', '1.1.1.2', '172.16.1.1', '172.16.1.2']\n",
      "192.168.1.1\n",
      "172.16.1.2\n"
     ]
    }
   ],
   "source": [
    "my_ipaddress = [\"192.168.1.1\", \"10.1.1.1\", \"172.16.31.254\", \"8.8.8.8\", \"8.8.4.4\"]\n",
    "my_ipaddress.append(\"10.10.10.10\")\n",
    "my_ipaddress.extend([\"1.1.1.1\", \"1.1.1.2\"])\n",
    "my_ipaddress = my_ipaddress + [\"172.16.1.1\", \"172.16.1.2\"]\n",
    "print(my_ipaddress)\n",
    "\n",
    "print(my_ipaddress[0])\n",
    "print(my_ipaddress[-1])\n",
    "\n",
    "first_ip = my_ipaddress.pop(0)\n",
    "last_ip = my_ipaddress.pop()"
   ]
  },
  {
   "cell_type": "code",
   "execution_count": 52,
   "id": "0901bab8",
   "metadata": {},
   "outputs": [
    {
     "name": "stdout",
     "output_type": "stream",
     "text": [
      "('FastEthernet4', '10.220.88.20')\n"
     ]
    }
   ],
   "source": [
    "with open(\"show_ip_int_brief.txt\") as f:\n",
    "    show_ip_int_brief = f.readlines()\n",
    "\n",
    "fields = show_ip_int_brief[5].strip().split()\n",
    "\n",
    "my_results = (fields[0], fields[1])\n",
    "print(my_results)\n"
   ]
  },
  {
   "cell_type": "code",
   "execution_count": 63,
   "id": "2a17ed92",
   "metadata": {},
   "outputs": [
    {
     "name": "stdout",
     "output_type": "stream",
     "text": [
      "Local AS Number: 42\n",
      "BGP Peer IP Address: 10.220.88.38\n"
     ]
    }
   ],
   "source": [
    "with open(\"show_ip_bgp_summ.txt\") as f:\n",
    "    bgp_summ = f.read()\n",
    "\n",
    "bgp_summ = bgp_summ.splitlines()\n",
    "first_line = bgp_summ[0]\n",
    "\n",
    "as_number = first_line.split()[-1]\n",
    "print(f\"Local AS Number: {as_number}\")\n",
    "\n",
    "last_line = bgp_summ[-1]\n",
    "peer_ip = last_line.split()[0]\n",
    "print(\"BGP Peer IP Address: {}\".format(peer_ip))"
   ]
  }
 ],
 "metadata": {
  "kernelspec": {
   "display_name": "Python 3 (ipykernel)",
   "language": "python",
   "name": "python3"
  },
  "language_info": {
   "codemirror_mode": {
    "name": "ipython",
    "version": 3
   },
   "file_extension": ".py",
   "mimetype": "text/x-python",
   "name": "python",
   "nbconvert_exporter": "python",
   "pygments_lexer": "ipython3",
   "version": "3.7.3"
  }
 },
 "nbformat": 4,
 "nbformat_minor": 5
}
