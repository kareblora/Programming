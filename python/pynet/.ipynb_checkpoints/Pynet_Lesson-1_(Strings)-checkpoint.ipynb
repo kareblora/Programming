{
 "cells": [
  {
   "cell_type": "code",
   "execution_count": 1,
   "id": "c42aae38",
   "metadata": {},
   "outputs": [
    {
     "name": "stdout",
     "output_type": "stream",
     "text": [
      "192.168.16.1 10.10.1.1 172.16.31.17\n"
     ]
    }
   ],
   "source": [
    "ip_addr1 = \"192.168.16.1\"\n",
    "ip_addr2 = \"10.10.1.1\"\n",
    "ip_addr3 = \"172.16.31.17\"\n",
    "\n",
    "print(ip_addr1, ip_addr2, ip_addr3)"
   ]
  },
  {
   "cell_type": "code",
   "execution_count": 2,
   "id": "e49d582b",
   "metadata": {},
   "outputs": [
    {
     "name": "stdout",
     "output_type": "stream",
     "text": [
      "Please type an ip address:8.3.2.5\n"
     ]
    }
   ],
   "source": [
    "ip_input = input(\"Please type an ip address:\")"
   ]
  },
  {
   "cell_type": "code",
   "execution_count": 9,
   "id": "45c728f8",
   "metadata": {},
   "outputs": [
    {
     "data": {
      "text/plain": [
       "list"
      ]
     },
     "execution_count": 9,
     "metadata": {},
     "output_type": "execute_result"
    }
   ],
   "source": [
    "octets = ip_input.split(\".\")\n",
    "octets\n",
    "type(octets)"
   ]
  },
  {
   "cell_type": "code",
   "execution_count": 12,
   "id": "028c0bc4",
   "metadata": {},
   "outputs": [
    {
     "name": "stdout",
     "output_type": "stream",
     "text": [
      "    Octet1         Octet2         Octet3         Octet4     \n"
     ]
    }
   ],
   "source": [
    "print(\"{:^15}{:^15}{:^15}{:^15}\".format(\"Octet1\", \"Octet2\", \"Octet3\", \"Octet4\"))"
   ]
  },
  {
   "cell_type": "code",
   "execution_count": 7,
   "id": "7bbfb705",
   "metadata": {},
   "outputs": [
    {
     "name": "stdout",
     "output_type": "stream",
     "text": [
      "       8              3              2              5       \n",
      "       8              3              2              5       \n"
     ]
    }
   ],
   "source": [
    "print(\"{:^15}{:^15}{:^15}{:^15}\".format(octets[0], octets[1], octets[2], octets[3]))\n",
    "print(\"{:^15}{:^15}{:^15}{:^15}\".format(*octets))"
   ]
  },
  {
   "cell_type": "code",
   "execution_count": 6,
   "id": "b71e5df0",
   "metadata": {},
   "outputs": [
    {
     "name": "stdout",
     "output_type": "stream",
     "text": [
      "\n",
      "Is variable1 equal to variable2: False\n",
      "Is variable1 not equal to variable3: True\n"
     ]
    }
   ],
   "source": [
    "ipv6_addr1 = \"2001:db8:1234::1\"\n",
    "IPV6_ADDR2 = \"2001:db8:1234::2\"\n",
    "ipV6_addR3 = \"2001:db8:1234::3\"\n",
    "\n",
    "print(\"\")\n",
    "print(\"Is variable1 equal to variable2: {}\".format(ipv6_addr1 == IPV6_ADDR2))\n",
    "print(f\"Is variable1 not equal to variable3: {(ipv6_addr1 != ipV6_addR3)}\")"
   ]
  }
 ],
 "metadata": {
  "kernelspec": {
   "display_name": "Python 3 (ipykernel)",
   "language": "python",
   "name": "python3"
  },
  "language_info": {
   "codemirror_mode": {
    "name": "ipython",
    "version": 3
   },
   "file_extension": ".py",
   "mimetype": "text/x-python",
   "name": "python",
   "nbconvert_exporter": "python",
   "pygments_lexer": "ipython3",
   "version": "3.7.3"
  }
 },
 "nbformat": 4,
 "nbformat_minor": 5
}
