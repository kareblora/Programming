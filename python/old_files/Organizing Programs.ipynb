{
 "cells": [
  {
   "cell_type": "code",
   "execution_count": 3,
   "id": "ebbb1de3-332f-4d19-b2e8-bc1fe65ccba6",
   "metadata": {},
   "outputs": [],
   "source": [
    "#!/usr/bin/env python 3.7\n",
    "# Chapter 7 module demonstration\n",
    "\n",
    "\n",
    "import sys\n",
    "from Kitchen.Fridge import Fridge\n",
    "from Kitchen.Omelet import Omelet\n",
    "\n",
    "\n",
    "#print (sys.path)\n",
    "#f = Fridge({\"eggs\" : 20, \"milk\" : 20, \"cheese\" : 20, \"mushroom\" : 10, \"onion\" : 10})\n",
    "\n",
    "#sys.modules.pop(\"Kitchen\")\n",
    "\n",
    "#print(\"This was given the command line paramaters %s\" % sys.argv)\n",
    "#print (sys.path)\n",
    "\n",
    "#f.items\n",
    "\n"
   ]
  },
  {
   "cell_type": "code",
   "execution_count": 2,
   "id": "bc9ff6d0-75f9-416e-a465-a16962d643e4",
   "metadata": {},
   "outputs": [
    {
     "name": "stdout",
     "output_type": "stream",
     "text": [
      "Python are snakes... The eat mammals, killing them by squeezing them to death.About Pythons..\n",
      "About Pythons..\n",
      "\n"
     ]
    }
   ],
   "source": [
    "path = '/Users/kareblora/Intro Python/sample.txt'\n",
    "sample_file = open(path, \"a\")\n",
    "\n",
    "#sample_file.write(\"About Pythons..\\n\")\n",
    "#sample_file.write(\"Python are snakes... The eat mammals, killing them by squeezing them to death.\")\n",
    "\n",
    "sample_file.close()\n",
    "\n",
    "read = open(path, \"r\")\n",
    "print (read.read())\n",
    "\n",
    "read.close()"
   ]
  },
  {
   "cell_type": "code",
   "execution_count": 16,
   "id": "fce987fe-dc4f-465a-a9f8-19acfac2a72c",
   "metadata": {},
   "outputs": [],
   "source": [
    "import os\n",
    "#manipulating paths\n",
    "import sys\n",
    "\n",
    "path = '/Users/kareblora/Intro Python/sample.txt'\n",
    "\n",
    "parent_path, name = os.path.split(path)\n",
    "\n",
    "#print(\"%s : %s\" %(parent_path, name))\n",
    "\n",
    "def split_fully(path):\n",
    "    parent_path, name = os.path.split(path)\n",
    "    if name == \"\" :\n",
    "        return (parent_path, )\n",
    "    else :\n",
    "        return split_fully(parent_path) + (name, )\n",
    "\n",
    "splitted = split_fully(path)\n",
    "\n",
    "extension = os.path.splitext(name)[1]\n",
    "\n",
    "here = os.path.abspath(os.path.dirname('__file__'))\n",
    "\n",
    "#print(os.getcwd())\n",
    "\n",
    "with open(os.path.join(here, \"sample.txt\")) as file:\n",
    "    read_text = file.read()\n",
    "\n",
    "#print(read_text)\n",
    "\n",
    "os.listdir(here)\n",
    "\n",
    "def print_dir(here):\n",
    "    for dir in sorted(os.listdir(here)):\n",
    "        full_path = os.path.join(here, dir)\n",
    "        print(full_path)\n",
    "        if os.path.isdir(full_path):\n",
    "            print_dir(full_path)\n",
    "       \n",
    "    \n",
    "#print_dir(here)\n",
    "#os.mkdir(here + \"/os_mkdir_sample\")\n",
    "#os.rmdir(here + \"/os_mkdir_sample\")\n"
   ]
  },
  {
   "cell_type": "code",
   "execution_count": 4,
   "id": "fd26a5d8-a04c-4561-aa41-d94e8f9bc52f",
   "metadata": {},
   "outputs": [],
   "source": [
    "import glob\n",
    "#expanding wildcards in filename patterns\n",
    "#glob.glob(\"/Users/kareblora/*\")"
   ]
  },
  {
   "cell_type": "code",
   "execution_count": 27,
   "id": "b277ee89-65af-4514-a4f5-a18c98f591a3",
   "metadata": {},
   "outputs": [
    {
     "name": "stdout",
     "output_type": "stream",
     "text": [
      "('Hello World', 10, 16.5)\n"
     ]
    }
   ],
   "source": [
    "import pickle\n",
    "\n",
    "data = (\"Hello World\", 10, 16.5)\n",
    "pickle_file = open('test.pickle', \"w\")\n",
    "\n",
    "#pickle.dump(data, pickle_file)\n",
    "\n",
    "pickle_file.close()\n"
   ]
  },
  {
   "cell_type": "code",
   "execution_count": 22,
   "id": "239dc9ff-906a-4594-b1d4-1daa0566fb90",
   "metadata": {},
   "outputs": [
    {
     "name": "stdout",
     "output_type": "stream",
     "text": [
      "[1, 3, 5, 7, 9]\n"
     ]
    }
   ],
   "source": [
    "#Using lambda and filter\n",
    "\n",
    "num = [1,2,3,4,5,6,7,8,9,10]\n",
    "\n",
    "func = lambda x: x%2 != 0\n",
    "result = list(filter(func, num))\n",
    "\n",
    "print(result)"
   ]
  },
  {
   "cell_type": "code",
   "execution_count": 37,
   "id": "8b1d04d3-da0b-4277-ba31-a6ebb0218edd",
   "metadata": {},
   "outputs": [
    {
     "data": {
      "text/plain": [
       "'hello'"
      ]
     },
     "execution_count": 37,
     "metadata": {},
     "output_type": "execute_result"
    }
   ],
   "source": [
    "x = \"hello\"\n",
    "\n",
    "\"\".join(x)"
   ]
  },
  {
   "cell_type": "code",
   "execution_count": 12,
   "id": "c99c4553-0724-48f2-a784-738f7cdda396",
   "metadata": {},
   "outputs": [
    {
     "name": "stdout",
     "output_type": "stream",
     "text": [
      "[10, 8]\n",
      "python, 10.00\n"
     ]
    }
   ],
   "source": [
    "dict_a = [{'name': 'python', 'points': 10}, {'name': 'java', 'points': 8}]\n",
    "dict_b = {'name': 'python', 'points': 10}\n",
    "\n",
    "print(list(map(lambda x : x['points'], dict_a)))\n",
    "    \n",
    "print(\"%(name)s, %(points)2.2f\" % dict_b) \n",
    "\n",
    "#list(range(30,40,2))\n",
    "\n"
   ]
  },
  {
   "cell_type": "code",
   "execution_count": null,
   "id": "57e0db5a-3bac-48a7-8c1f-bf6b2a7dce76",
   "metadata": {},
   "outputs": [],
   "source": []
  },
  {
   "cell_type": "code",
   "execution_count": null,
   "id": "cf38dffa-1403-4861-8c9b-e3ed1b72ebb3",
   "metadata": {},
   "outputs": [],
   "source": []
  }
 ],
 "metadata": {
  "kernelspec": {
   "display_name": "Python 3 (ipykernel)",
   "language": "python",
   "name": "python3"
  },
  "language_info": {
   "codemirror_mode": {
    "name": "ipython",
    "version": 3
   },
   "file_extension": ".py",
   "mimetype": "text/x-python",
   "name": "python",
   "nbconvert_exporter": "python",
   "pygments_lexer": "ipython3",
   "version": "3.7.3"
  }
 },
 "nbformat": 4,
 "nbformat_minor": 5
}
