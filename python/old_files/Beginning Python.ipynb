{
 "cells": [
  {
   "cell_type": "markdown",
   "id": "a83775e8-7eb0-4c37-a27a-873aacce623a",
   "metadata": {},
   "source": [
    "Introduction to Python and Numpy/Pandas"
   ]
  },
  {
   "cell_type": "code",
   "execution_count": 6,
   "id": "056a55f6-ab5e-4527-b8a8-b136e3151e91",
   "metadata": {},
   "outputs": [
    {
     "name": "stdout",
     "output_type": "stream",
     "text": [
      "<class 'numpy.ndarray'>\n",
      "[1. 1. 1. 1. 1.]\n",
      "1\n"
     ]
    }
   ],
   "source": [
    "import numpy as np\n",
    "\n",
    "\n",
    "a = np.ones(5)\n",
    "\n",
    "print (type(a))\n",
    "print (a)\n",
    "print (\"%d\" %a[3])"
   ]
  },
  {
   "cell_type": "code",
   "execution_count": 9,
   "id": "72db5618-91e2-43c6-83a0-07a8c955e4fd",
   "metadata": {},
   "outputs": [
    {
     "data": {
      "text/plain": [
       "0     5.0\n",
       "1    78.0\n",
       "2     2.0\n",
       "3     NaN\n",
       "4     6.0\n",
       "5     8.0\n",
       "dtype: float64"
      ]
     },
     "execution_count": 9,
     "metadata": {},
     "output_type": "execute_result"
    }
   ],
   "source": [
    "import numpy as np\n",
    "import pandas as pd\n",
    "\n",
    "s = pd.Series([5, 78, 2.3, np.nan, 6, 8])\n",
    "s"
   ]
  },
  {
   "cell_type": "code",
   "execution_count": 18,
   "id": "66d8e086-88b3-4343-9694-d6a9a71973c3",
   "metadata": {},
   "outputs": [
    {
     "data": {
      "text/plain": [
       "DatetimeIndex(['2021-08-01', '2021-08-02', '2021-08-03'], dtype='datetime64[ns]', freq='D')"
      ]
     },
     "execution_count": 18,
     "metadata": {},
     "output_type": "execute_result"
    }
   ],
   "source": [
    "dates = pd.date_range(\"20210801\", periods=3)\n",
    "dates\n"
   ]
  },
  {
   "cell_type": "code",
   "execution_count": 13,
   "id": "4416243a-6db9-46a9-a158-2e896ae4af22",
   "metadata": {},
   "outputs": [
    {
     "name": "stdout",
     "output_type": "stream",
     "text": [
      "Achas\n",
      "Cabardo\n",
      "Oriarte\n",
      "Quilang\n",
      "Reblora\n"
     ]
    }
   ],
   "source": [
    "lastnames = [ \"Reblora\", \"Achas\", \"Cabardo\", \"Quilang\", \"Oriarte\" ]\n",
    "#print(\"%s\" %lastnames[0][1])\n",
    "\n",
    "by_letter = {}\n",
    "by_letter[lastnames[0][0]] = lastnames[0]\n",
    "by_letter[lastnames[1][0]] = lastnames[1]\n",
    "by_letter[lastnames[2][0]] = lastnames[2]\n",
    "by_letter[lastnames[3][0]] = lastnames[3]\n",
    "by_letter[lastnames[4][0]] = lastnames[4]\n",
    "\n",
    "sliced_lastnames = lastnames[1:4]\n",
    "\n",
    "sort = sorted(by_letter)\n",
    "\n",
    "for letter in sort:\n",
    "    print(by_letter[letter])"
   ]
  },
  {
   "cell_type": "code",
   "execution_count": null,
   "id": "06e8f2b9-88f2-4f94-a266-7b670bea3d40",
   "metadata": {},
   "outputs": [],
   "source": []
  },
  {
   "cell_type": "code",
   "execution_count": null,
   "id": "455c7743-ad93-43f0-a929-d1a5a9caacc9",
   "metadata": {},
   "outputs": [],
   "source": []
  }
 ],
 "metadata": {
  "kernelspec": {
   "display_name": "Python 3 (ipykernel)",
   "language": "python",
   "name": "python3"
  },
  "language_info": {
   "codemirror_mode": {
    "name": "ipython",
    "version": 3
   },
   "file_extension": ".py",
   "mimetype": "text/x-python",
   "name": "python",
   "nbconvert_exporter": "python",
   "pygments_lexer": "ipython3",
   "version": "3.7.3"
  }
 },
 "nbformat": 4,
 "nbformat_minor": 5
}
