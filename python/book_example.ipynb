{
 "cells": [
  {
   "cell_type": "code",
   "execution_count": 2,
   "id": "edc310dd",
   "metadata": {},
   "outputs": [
    {
     "name": "stdout",
     "output_type": "stream",
     "text": [
      "Book info:  Two Scoops of Django, 5 stars, 12.0, None\n",
      "Book properties:  {'title': 'Two Scoops of Django', 'author': 'Greenfeld', 'chapter_title': 'Async Views', 'chapter_number': 3}\n",
      "BookInfo properties:  {'title': 'Two Scoops of Django', 'author': None, 'price': 12.0, 'stars': 5}\n"
     ]
    }
   ],
   "source": [
    "class Book:\n",
    "    def __init__(self, title):\n",
    "        self.title = title\n",
    "        self.author = None\n",
    "\n",
    "    def add_author(self, name):\n",
    "        # add author property\n",
    "        self.author = name\n",
    "\n",
    "    def add_chapter(self, number, title):\n",
    "        # add properties chapter_number and chapter_title\n",
    "        self.chapter_title = title\n",
    "        self.chapter_number = number\n",
    "\n",
    "\n",
    "class BookInfo(Book):\n",
    "    def __init__(self, title, price, info=False):\n",
    "        Book.__init__(self, title)\n",
    "        # add properties price and info\n",
    "        self.title = title\n",
    "        self.price = price\n",
    "        self.stars = 0\n",
    "\n",
    "    def rating(self, stars):\n",
    "        try:\n",
    "            # check if existing stars are less than new stars\n",
    "            # and if new stars are greater than 4\n",
    "            # adjust new price by a 20% increase\n",
    "            if self.stars < stars and stars >= 4:\n",
    "                self.price += 0.20 * self.price\n",
    "            elif self.stars > stars:\n",
    "                self.price -= 0.20 * self.price\n",
    "            self.stars = stars            \n",
    "        \n",
    "            # update the stars property\n",
    "        except Exception as e:\n",
    "            print(e, \"Please try again\")\n",
    "\n",
    "\n",
    "\n",
    "# Create a book object titled 'Two Scoops of Django'\n",
    "book = Book(\"Two Scoops of Django\")\n",
    "# Add the author 'Greenfeld'\n",
    "book.add_author('Greenfeld')\n",
    "# Add a chapter 3, with title 'Async Views'\n",
    "book.add_chapter(3,\"Async Views\")\n",
    "\n",
    "# Create a book_info object titled 'Two Scoops of Django'\n",
    "# with a price of 10, and info set to True\n",
    "book_info = BookInfo(title=book.title, price=10, info=True)\n",
    "# Give the book_info a rating of 5 stars\n",
    "book_info.rating(5)\n",
    "\n",
    "print(\"Book info: \", end=\" \")\n",
    "# Print book_info's title, stars and price\n",
    "print(\n",
    "    book_info.title, str(book_info.stars) + \" stars\",\n",
    "    book_info.price, book_info.author, sep=\", \"\n",
    ")\n",
    "# Print all properties of book and book_info objects\n",
    "print(\"Book properties: \", book.__dict__)\n",
    "print(\"BookInfo properties: \", book_info.__dict__)"
   ]
  },
  {
   "cell_type": "code",
   "execution_count": 23,
   "id": "0d3f8880",
   "metadata": {},
   "outputs": [
    {
     "name": "stdout",
     "output_type": "stream",
     "text": [
      "{'_Flower__petals': True, '_Flower__thorns': False, '__leaves': True}\n"
     ]
    }
   ],
   "source": [
    "class Flower:\n",
    "    stem = 'green'\n",
    "    def __init__(self, petals=True, thorns=False):\n",
    "        self.__petals = petals\n",
    "        self.__thorns = thorns\n",
    "\n",
    "flower = Flower()\n",
    "flower.__leaves = True\n",
    "\n",
    "print(flower.__dict__)\n"
   ]
  },
  {
   "cell_type": "code",
   "execution_count": 64,
   "id": "6c5f9cb4",
   "metadata": {},
   "outputs": [
    {
     "name": "stdout",
     "output_type": "stream",
     "text": [
      "True\n",
      "<class 'int'>\n"
     ]
    }
   ],
   "source": [
    "class A:\n",
    "    Var = n = 1\n",
    "    def __init__(self, val):\n",
    "        self.val = value = 2\n",
    "\n",
    "a = A(5)\n",
    "print('Var' in A.__dict__)\n",
    "print(type(a.val))\n",
    "\n",
    "#hasattr(a, 'n')"
   ]
  },
  {
   "cell_type": "code",
   "execution_count": 88,
   "id": "22d2344d",
   "metadata": {},
   "outputs": [
    {
     "name": "stdout",
     "output_type": "stream",
     "text": [
      "[0, 1, 1]\n"
     ]
    }
   ],
   "source": [
    "class A:\n",
    "    def __init__(self, list1):\n",
    "        self.list1 = list1\n",
    "\n",
    "    def get(self):\n",
    "        return self.list1\n",
    "\n",
    "    def put(self, x):\n",
    "        self.list1.append(x)\n",
    "\n",
    "    def update(self):\n",
    "        self.put(self.get()[-1])\n",
    "\n",
    "obj = A([0])\n",
    "\n",
    "obj.put(1)\n",
    "obj.update()\n",
    "print(obj.get())"
   ]
  },
  {
   "cell_type": "code",
   "execution_count": 95,
   "id": "1cc81653",
   "metadata": {},
   "outputs": [
    {
     "name": "stdout",
     "output_type": "stream",
     "text": [
      "Object_2 first:  2\n",
      "Object_3 first:  4\n",
      "We have created 3 objects\n",
      "Counter inside the ObjCounter is now 3\n"
     ]
    }
   ],
   "source": [
    "class ObjCounter:\n",
    "    # set the private 'counter' here\n",
    "    __counter = 0\n",
    "    def __init__(self, val=1):\n",
    "        # set a private property 'first' to val\n",
    "        self.__first = val\n",
    "        # add here the counter\n",
    "        ObjCounter.__counter += 1\n",
    "\n",
    "\n",
    "object_1 = ObjCounter()\n",
    "object_2 = ObjCounter(2)\n",
    "object_3 = ObjCounter(4)\n",
    "\n",
    "\n",
    "print(\"Object_2 first: \", object_2._ObjCounter__first)\n",
    "print(\"Object_3 first: \", object_3._ObjCounter__first)\n",
    "\n",
    "print(\"We have created\", end=\" \")\n",
    "print(object_3._ObjCounter__counter, \"objects\")\n",
    "\n",
    "print(\"Counter inside the ObjCounter is now\", end=\" \")\n",
    "print(ObjCounter.__dict__[\"_ObjCounter__counter\"])"
   ]
  },
  {
   "cell_type": "code",
   "execution_count": 112,
   "id": "2336ebbc",
   "metadata": {},
   "outputs": [
    {
     "name": "stdout",
     "output_type": "stream",
     "text": [
      "it blooms in spring\n",
      "Superclass name Flower\n"
     ]
    }
   ],
   "source": [
    "class Flower:\n",
    "    def __init__(self, petals=False, thorns=False, color=False):\n",
    "        self.petals = petals\n",
    "        self.thorns = thorns\n",
    "        self.color = color\n",
    "\n",
    "    def has_color(self, color):\n",
    "        if self.color:\n",
    "            return \"it has color \" + color\n",
    "\n",
    "    def has_thorns(self, thorns):\n",
    "        if self.thorns:\n",
    "            return \"it has thorns\"\n",
    "\n",
    "    def season(self, blooming):\n",
    "        return \"it blooms in \" + blooming\n",
    "\n",
    "\n",
    "class Rose(Flower):\n",
    "    def __init__(self, color):\n",
    "        # Call the superclass init\n",
    "        Flower.__init__(self, thorns=True, color=color)\n",
    "\n",
    "\n",
    "    def season(self):\n",
    "        # return the superclass season and pass as parameter 'spring'\n",
    "        return Flower.season(self, \"spring\")\n",
    "\n",
    "\n",
    "\n",
    "rose = Rose(\"Red\")\n",
    "\n",
    "# print the rose season\n",
    "print(rose.season())\n",
    "\n",
    "# print the rose superclasses\n",
    "for x in Rose.__bases__:\n",
    "    print(\"Superclass name\", x.__name__)"
   ]
  },
  {
   "cell_type": "code",
   "execution_count": null,
   "id": "c0ab6cf9",
   "metadata": {},
   "outputs": [],
   "source": []
  }
 ],
 "metadata": {
  "kernelspec": {
   "display_name": "Python 3 (ipykernel)",
   "language": "python",
   "name": "python3"
  },
  "language_info": {
   "codemirror_mode": {
    "name": "ipython",
    "version": 3
   },
   "file_extension": ".py",
   "mimetype": "text/x-python",
   "name": "python",
   "nbconvert_exporter": "python",
   "pygments_lexer": "ipython3",
   "version": "3.7.3"
  }
 },
 "nbformat": 4,
 "nbformat_minor": 5
}
