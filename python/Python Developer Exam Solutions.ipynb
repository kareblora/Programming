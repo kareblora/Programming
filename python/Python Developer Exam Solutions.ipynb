{
 "cells": [
  {
   "cell_type": "code",
   "execution_count": 24,
   "id": "89d13b28",
   "metadata": {},
   "outputs": [
    {
     "name": "stdout",
     "output_type": "stream",
     "text": [
      "Enter a number: 5\n",
      "1\t2\t3\t4\t5\n",
      "2\t4\t6\t8\t10\n",
      "3\t6\t9\t12\t15\n",
      "4\t8\t12\t16\t20\n",
      "5\t10\t15\t20\t25\n",
      "\n",
      "\n",
      "1\t2\t3\t4\t5\n",
      "2\t4\t6\t8\t10\n",
      "3\t6\t9\t12\t15\n",
      "4\t8\t12\t16\t20\n",
      "5\t10\t15\t20\t25\n"
     ]
    }
   ],
   "source": [
    "#1. Create a dynamic multiplication table\n",
    "\n",
    "x = int(input('Enter a number: '))\n",
    "i = 1\n",
    "\n",
    "while i != x+1:\n",
    "    print(i, i*2, i*3, i*4, i*5, sep='\\t')\n",
    "    i = i + 1 \n",
    "\n",
    "print('\\n')\n",
    "    \n",
    "for i in range(1,x+1):\n",
    "   print(i, i*2, i*3, i*4, i*5, sep='\\t')\n"
   ]
  },
  {
   "cell_type": "code",
   "execution_count": 36,
   "id": "8f8e6ebe",
   "metadata": {},
   "outputs": [
    {
     "name": "stdout",
     "output_type": "stream",
     "text": [
      "Enter a number: 5\n",
      "*\n",
      "**\n",
      "***\n",
      "****\n",
      "*****\n"
     ]
    }
   ],
   "source": [
    "#2. Create a dynamic triangle (see below example)\n",
    "\n",
    "x = int(input('Enter a number: '))\n",
    "\n",
    "for i in range(1,x+1):\n",
    "    print('*' * i)\n"
   ]
  },
  {
   "cell_type": "code",
   "execution_count": 104,
   "id": "cd640349",
   "metadata": {},
   "outputs": [
    {
     "name": "stdout",
     "output_type": "stream",
     "text": [
      "2 3 5 7 11 13 17 19 23 29 31 37 41 43 47 53 59 61 67 71 73 79 83 89 97 101 103 107 109 113 127 131 137 139 149 151 157 163 167 173 179 181 191 193 197 199 211 223 227 229 233 239 241 251 257 263 269 271 277 281 283 293 307 311 313 317 331 337 347 349 353 359 367 373 379 383 389 397 401 409 419 421 431 433 439 443 449 457 461 463 467 479 487 491 499 503 509 521 523 541 547 557 563 569 571 577 587 593 599 601 607 613 617 619 631 641 643 647 653 659 661 673 677 683 691 701 709 719 727 733 739 743 751 757 761 769 773 787 797 809 811 821 823 827 829 839 853 857 859 863 877 881 883 887 907 911 919 929 937 941 947 953 967 971 977 983 991 997 "
     ]
    }
   ],
   "source": [
    "#3. Calculate and output all prime numbers between 1 and 1000. A prime number is a whole number greater than 1, whose only two whole-number factors are 1 and itself. The first few prime numbers are 2,3,5,7,11,13,17,19,23 and 29.\n",
    "\n",
    "def is_prime(n):\n",
    "    \"\"\"Check if a number is prime.\"\"\"\n",
    "    if n <= 1:\n",
    "        return False\n",
    "    for i in range(2, int(n ** 0.5) + 1):\n",
    "        if n % i == 0:\n",
    "            return False\n",
    "    return True\n",
    "\n",
    "# Display prime numbers from 1 to 1000\n",
    "prime_numbers = []\n",
    "for num in range(1, 1001):\n",
    "    if is_prime(num):\n",
    "        print(num, sep=\" \", end=\" \")\n",
    "        prime_numbers.append(num)\n"
   ]
  },
  {
   "cell_type": "code",
   "execution_count": 122,
   "id": "3ca80577",
   "metadata": {},
   "outputs": [
    {
     "data": {
      "text/plain": [
       "['Apple',\n",
       " 'Apricot',\n",
       " 'Banana',\n",
       " 'Durian',\n",
       " 'Kiwi',\n",
       " 'Mango',\n",
       " 'Orange',\n",
       " 'Strawberry']"
      ]
     },
     "execution_count": 122,
     "metadata": {},
     "output_type": "execute_result"
    }
   ],
   "source": [
    "#4. Write a function to sort the following list of string values. The final order should be alphanumeric.\n",
    "\n",
    "#You can use all built in function except for SORT and ORDER BY\n",
    "\n",
    "fruits = [\"Kiwi\",\"Orange\",\"Strawberry\",\"Apple\", \"Durian\", \"Banana\" , \"Mango\" , \"Apricot\"]\n",
    "\n",
    "#Bubble sort algorithm\n",
    "for i in range(len(fruits)):\n",
    "    for j in range(0,len(fruits)-i-1):\n",
    "        if fruits[j] > fruits[j+1]:\n",
    "            temp = fruits[j]\n",
    "            fruits[j] = fruits[j+1]\n",
    "            fruits[j+1] = temp\n",
    "\n",
    "fruits"
   ]
  },
  {
   "cell_type": "code",
   "execution_count": 163,
   "id": "29cc2311",
   "metadata": {},
   "outputs": [
    {
     "name": "stdout",
     "output_type": "stream",
     "text": [
      "Enter a String: KEVIN\n",
      "Output: NIVEK\n"
     ]
    }
   ],
   "source": [
    "#5. Write a program that will reverse any string without using the built in function of String reverse.\n",
    "#Enter a String : CIVICOM\n",
    "#Output: MOCIVIC\n",
    "\n",
    "x = input('Enter a String: ')\n",
    "xlist = []\n",
    "xlist[:0] = x\n",
    "y = -1\n",
    "order = int(len(x)/2)\n",
    "\n",
    "for i in range(order):\n",
    "    temp = xlist[i]\n",
    "    xlist[i] = xlist[y]\n",
    "    xlist[y] = temp\n",
    "    y -= 1\n",
    "\n",
    "s = ''.join(xlist)\n",
    "print(f'Output: {s}')\n"
   ]
  },
  {
   "cell_type": "code",
   "execution_count": 174,
   "id": "cd087547",
   "metadata": {},
   "outputs": [
    {
     "name": "stdout",
     "output_type": "stream",
     "text": [
      "Enter a String: HELLO\n",
      "HELLO\n",
      "HELL\n",
      "HEL\n",
      "HE\n",
      "H\n"
     ]
    }
   ],
   "source": [
    "#6. Create a program that accepts a string and display the following\n",
    "#Enter a String : HELLO\n",
    "#Output :\n",
    "#HELLO\n",
    "#HELL\n",
    "#HEL\n",
    "#HE\n",
    "#H\n",
    "\n",
    "x = input('Enter a String: ')\n",
    "xlist = []\n",
    "xlist[:0] = x\n",
    "\n",
    "while len(xlist) != 0:\n",
    "    s = ''.join(xlist)\n",
    "    print(s)\n",
    "    xlist.pop()\n"
   ]
  },
  {
   "cell_type": "code",
   "execution_count": 180,
   "id": "7e11c57c",
   "metadata": {},
   "outputs": [
    {
     "name": "stdout",
     "output_type": "stream",
     "text": [
      "Enter a number: 1000000\n"
     ]
    }
   ],
   "source": [
    "#7. The criminal numbers, given that we have a List of criminals “1, 55, 23, 12, 45, -5, -14, 2, 0, 99, 493”. Create a program that validates if user input was in the criminal database or not. Display the word “criminal or innocent”. Entering any number greater than 10,000 will terminate the program.\n",
    "\n",
    "criminals = [1, 55, 23, 12, 45, -5, -14, 2, 0, 99, 493]\n",
    "\n",
    "x = int(input('Enter a number: '))\n",
    "for i in criminals:\n",
    "    if (x == i):\n",
    "        print(\"criminal\")\n",
    "        break\n",
    "    elif (x > 10000):\n",
    "        break\n",
    "    else:\n",
    "        print(\"innocent\")\n",
    "        break"
   ]
  }
 ],
 "metadata": {
  "kernelspec": {
   "display_name": "Python 3 (ipykernel)",
   "language": "python",
   "name": "python3"
  },
  "language_info": {
   "codemirror_mode": {
    "name": "ipython",
    "version": 3
   },
   "file_extension": ".py",
   "mimetype": "text/x-python",
   "name": "python",
   "nbconvert_exporter": "python",
   "pygments_lexer": "ipython3",
   "version": "3.7.3"
  }
 },
 "nbformat": 4,
 "nbformat_minor": 5
}
